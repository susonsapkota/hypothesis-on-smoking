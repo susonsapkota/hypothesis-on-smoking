{
 "cells": [
  {
   "cell_type": "code",
   "execution_count": 1,
   "metadata": {},
   "outputs": [],
   "source": [
    "# importing the libraries\n",
    "import numpy as np\n",
    "import pandas as pd\n",
    "import matplotlib.pyplot as plt\n",
    "%matplotlib inline\n",
    "import seaborn as sns"
   ]
  },
  {
   "cell_type": "markdown",
   "metadata": {},
   "source": [
    "# Introduction:"
   ]
  },
  {
   "cell_type": "markdown",
   "metadata": {},
   "source": [
    "Conditions that could be caused by smoking resulted in 1.7 million admissions to hospitals in England, for adults aged 35 and over, in 2014-2015 -- an average of 4,700 admissions per day! These figures refer to admissions with a primary diagnosis of a disease that can be caused by smoking, but for which smoking may or may not have actually been the cause.\n",
    "\n",
    "The Statistics on Smoking in England report aims to present a broad picture of health issues relating to smoking in England and covers topics such as smoking prevalence, habits, behaviours, and attitudes, smoking-related health issues and mortality, and associated costs.\n",
    "\n",
    "This report contains data and information previously published by the Health and Social Care Information Centre (HSCIC), Department of Health, the Office for National Statistics, and Her Majesty’s Revenue and Customs.\n",
    "\n",
    "The data set contains the following 7 columns with 2079 rows of data\n",
    "\n",
    "1. Year (Categorical)\n",
    "2. ICD10 Code (Categorical)\n",
    "3. ICD10 Diagnosis (Categorical)\n",
    "4. Diagnosis Type (Categorical)\n",
    "5. Metric Sex (Categorical)\n",
    "6. Value (Quantitative)\n",
    "\n",
    "### Business Proposal\n",
    " What are the factors that can affect admissions to hospitals due to tobacco usage?\n",
    "\n",
    "### Hypotheses Tests\n",
    " ● Admissions attributed to tobacco use are no different between males and females\n",
    " ● Admissions attributed to tobacco use are no different between respiratory and digestive diseases\n",
    "\n",
    "These tests will be performed using: t-test (scipy.stats.ttest_ind)\n",
    "\n",
    "### Stakeholders\n",
    "My findings could be useful to hospital administrators and doctors. It could help inform decisioning around admissions when someone comes in with a history of tobacco use.\n",
    "\n",
    "### Uses of Findings\n",
    " Doctors in the field could offer different treatments or do more research on how to keep admissions low amongst their patients if they have different underlying diseases."
   ]
  },
  {
   "cell_type": "markdown",
   "metadata": {},
   "source": [
    "# EDA:"
   ]
  },
  {
   "cell_type": "code",
   "execution_count": 2,
   "metadata": {},
   "outputs": [],
   "source": [
    "# reading the csv\n",
    "df = pd.read_csv('admissions.csv')"
   ]
  },
  {
   "cell_type": "code",
   "execution_count": 3,
   "metadata": {},
   "outputs": [
    {
     "data": {
      "text/html": [
       "<div>\n",
       "<style scoped>\n",
       "    .dataframe tbody tr th:only-of-type {\n",
       "        vertical-align: middle;\n",
       "    }\n",
       "\n",
       "    .dataframe tbody tr th {\n",
       "        vertical-align: top;\n",
       "    }\n",
       "\n",
       "    .dataframe thead th {\n",
       "        text-align: right;\n",
       "    }\n",
       "</style>\n",
       "<table border=\"1\" class=\"dataframe\">\n",
       "  <thead>\n",
       "    <tr style=\"text-align: right;\">\n",
       "      <th></th>\n",
       "      <th>Year</th>\n",
       "      <th>ICD10 Code</th>\n",
       "      <th>ICD10 Diagnosis</th>\n",
       "      <th>Diagnosis Type</th>\n",
       "      <th>Metric</th>\n",
       "      <th>Sex</th>\n",
       "      <th>Value</th>\n",
       "    </tr>\n",
       "  </thead>\n",
       "  <tbody>\n",
       "    <tr>\n",
       "      <th>0</th>\n",
       "      <td>2014/15</td>\n",
       "      <td>All codes</td>\n",
       "      <td>All admissions</td>\n",
       "      <td>All admissions</td>\n",
       "      <td>Number of admissions</td>\n",
       "      <td>NaN</td>\n",
       "      <td>11011882</td>\n",
       "    </tr>\n",
       "    <tr>\n",
       "      <th>1</th>\n",
       "      <td>2014/15</td>\n",
       "      <td>C33-C34 &amp; C00-C14 &amp; C15 &amp; C32 &amp; C53 &amp; C67 &amp; C6...</td>\n",
       "      <td>All diseases which can be caused by smoking</td>\n",
       "      <td>All diseases which can be caused by smoking</td>\n",
       "      <td>Number of admissions</td>\n",
       "      <td>NaN</td>\n",
       "      <td>1713330</td>\n",
       "    </tr>\n",
       "    <tr>\n",
       "      <th>2</th>\n",
       "      <td>2014/15</td>\n",
       "      <td>C00-D48</td>\n",
       "      <td>All cancers</td>\n",
       "      <td>All cancers</td>\n",
       "      <td>Number of admissions</td>\n",
       "      <td>NaN</td>\n",
       "      <td>1691035</td>\n",
       "    </tr>\n",
       "    <tr>\n",
       "      <th>3</th>\n",
       "      <td>2014/15</td>\n",
       "      <td>J00-J99</td>\n",
       "      <td>All respiratory diseases</td>\n",
       "      <td>All respiratory diseases</td>\n",
       "      <td>Number of admissions</td>\n",
       "      <td>NaN</td>\n",
       "      <td>611002</td>\n",
       "    </tr>\n",
       "    <tr>\n",
       "      <th>4</th>\n",
       "      <td>2014/15</td>\n",
       "      <td>I00-I99</td>\n",
       "      <td>All circulatory diseases</td>\n",
       "      <td>All circulatory diseases</td>\n",
       "      <td>Number of admissions</td>\n",
       "      <td>NaN</td>\n",
       "      <td>907157</td>\n",
       "    </tr>\n",
       "  </tbody>\n",
       "</table>\n",
       "</div>"
      ],
      "text/plain": [
       "      Year                                         ICD10 Code  \\\n",
       "0  2014/15                                          All codes   \n",
       "1  2014/15  C33-C34 & C00-C14 & C15 & C32 & C53 & C67 & C6...   \n",
       "2  2014/15                                            C00-D48   \n",
       "3  2014/15                                            J00-J99   \n",
       "4  2014/15                                            I00-I99   \n",
       "\n",
       "                               ICD10 Diagnosis  \\\n",
       "0                               All admissions   \n",
       "1  All diseases which can be caused by smoking   \n",
       "2                                  All cancers   \n",
       "3                     All respiratory diseases   \n",
       "4                     All circulatory diseases   \n",
       "\n",
       "                                Diagnosis Type                Metric  Sex  \\\n",
       "0                               All admissions  Number of admissions  NaN   \n",
       "1  All diseases which can be caused by smoking  Number of admissions  NaN   \n",
       "2                                  All cancers  Number of admissions  NaN   \n",
       "3                     All respiratory diseases  Number of admissions  NaN   \n",
       "4                     All circulatory diseases  Number of admissions  NaN   \n",
       "\n",
       "      Value  \n",
       "0  11011882  \n",
       "1   1713330  \n",
       "2   1691035  \n",
       "3    611002  \n",
       "4    907157  "
      ]
     },
     "execution_count": 3,
     "metadata": {},
     "output_type": "execute_result"
    }
   ],
   "source": [
    "df.head()"
   ]
  },
  {
   "cell_type": "markdown",
   "metadata": {},
   "source": [
    "#### Let's start by doing some explorotory data analysis. Let's check basic info about the dataset"
   ]
  },
  {
   "cell_type": "code",
   "execution_count": 4,
   "metadata": {},
   "outputs": [
    {
     "data": {
      "text/html": [
       "<div>\n",
       "<style scoped>\n",
       "    .dataframe tbody tr th:only-of-type {\n",
       "        vertical-align: middle;\n",
       "    }\n",
       "\n",
       "    .dataframe tbody tr th {\n",
       "        vertical-align: top;\n",
       "    }\n",
       "\n",
       "    .dataframe thead th {\n",
       "        text-align: right;\n",
       "    }\n",
       "</style>\n",
       "<table border=\"1\" class=\"dataframe\">\n",
       "  <thead>\n",
       "    <tr style=\"text-align: right;\">\n",
       "      <th></th>\n",
       "      <th>Year</th>\n",
       "      <th>ICD10 Code</th>\n",
       "      <th>ICD10 Diagnosis</th>\n",
       "      <th>Diagnosis Type</th>\n",
       "      <th>Metric</th>\n",
       "      <th>Sex</th>\n",
       "      <th>Value</th>\n",
       "    </tr>\n",
       "  </thead>\n",
       "  <tbody>\n",
       "    <tr>\n",
       "      <th>count</th>\n",
       "      <td>2079</td>\n",
       "      <td>2079</td>\n",
       "      <td>2079</td>\n",
       "      <td>2079</td>\n",
       "      <td>2079</td>\n",
       "      <td>1386</td>\n",
       "      <td>2078</td>\n",
       "    </tr>\n",
       "    <tr>\n",
       "      <th>unique</th>\n",
       "      <td>11</td>\n",
       "      <td>32</td>\n",
       "      <td>32</td>\n",
       "      <td>11</td>\n",
       "      <td>2</td>\n",
       "      <td>2</td>\n",
       "      <td>1420</td>\n",
       "    </tr>\n",
       "    <tr>\n",
       "      <th>top</th>\n",
       "      <td>2007/08</td>\n",
       "      <td>I00-I99</td>\n",
       "      <td>Stomach / Duodenal Ulcer</td>\n",
       "      <td>Cancers which can be caused by smoking</td>\n",
       "      <td>Number of admissions</td>\n",
       "      <td>Male</td>\n",
       "      <td>.</td>\n",
       "    </tr>\n",
       "    <tr>\n",
       "      <th>freq</th>\n",
       "      <td>189</td>\n",
       "      <td>66</td>\n",
       "      <td>66</td>\n",
       "      <td>726</td>\n",
       "      <td>1056</td>\n",
       "      <td>693</td>\n",
       "      <td>40</td>\n",
       "    </tr>\n",
       "  </tbody>\n",
       "</table>\n",
       "</div>"
      ],
      "text/plain": [
       "           Year ICD10 Code           ICD10 Diagnosis  \\\n",
       "count      2079       2079                      2079   \n",
       "unique       11         32                        32   \n",
       "top     2007/08    I00-I99  Stomach / Duodenal Ulcer   \n",
       "freq        189         66                        66   \n",
       "\n",
       "                                Diagnosis Type                Metric   Sex  \\\n",
       "count                                     2079                  2079  1386   \n",
       "unique                                      11                     2     2   \n",
       "top     Cancers which can be caused by smoking  Number of admissions  Male   \n",
       "freq                                       726                  1056   693   \n",
       "\n",
       "       Value  \n",
       "count   2078  \n",
       "unique  1420  \n",
       "top        .  \n",
       "freq      40  "
      ]
     },
     "execution_count": 4,
     "metadata": {},
     "output_type": "execute_result"
    }
   ],
   "source": [
    "df.describe()"
   ]
  },
  {
   "cell_type": "markdown",
   "metadata": {},
   "source": [
    "#### There seems to be 2079 records from 11 different years. Top diagnosis is Heart disease with top diagnosis which says 'Cancers which can be caused by smoking'. Top no of records is for 'Female'. There is also 32 different ICD10 code with 32 different diagnosis. There also seems to be weird value under 'Value' column. We will explore that more later on."
   ]
  },
  {
   "cell_type": "code",
   "execution_count": 5,
   "metadata": {},
   "outputs": [
    {
     "name": "stdout",
     "output_type": "stream",
     "text": [
      "<class 'pandas.core.frame.DataFrame'>\n",
      "RangeIndex: 2079 entries, 0 to 2078\n",
      "Data columns (total 7 columns):\n",
      " #   Column           Non-Null Count  Dtype \n",
      "---  ------           --------------  ----- \n",
      " 0   Year             2079 non-null   object\n",
      " 1   ICD10 Code       2079 non-null   object\n",
      " 2   ICD10 Diagnosis  2079 non-null   object\n",
      " 3   Diagnosis Type   2079 non-null   object\n",
      " 4   Metric           2079 non-null   object\n",
      " 5   Sex              1386 non-null   object\n",
      " 6   Value            2078 non-null   object\n",
      "dtypes: object(7)\n",
      "memory usage: 113.8+ KB\n"
     ]
    }
   ],
   "source": [
    "df.info()"
   ]
  },
  {
   "cell_type": "markdown",
   "metadata": {},
   "source": [
    "#### Converting value to number or integer for correct data type"
   ]
  },
  {
   "cell_type": "markdown",
   "metadata": {},
   "source": [
    "\n",
    "#### It seems there sare some missing values on 'Sex' and 'Value'. Let's explore that."
   ]
  },
  {
   "cell_type": "code",
   "execution_count": 6,
   "metadata": {},
   "outputs": [
    {
     "data": {
      "text/plain": [
       "<AxesSubplot:>"
      ]
     },
     "execution_count": 6,
     "metadata": {},
     "output_type": "execute_result"
    },
    {
     "data": {
      "image/png": "[encoded data removed]",
      "text/plain": [
       "<Figure size 1728x720 with 3 Axes>"
      ]
     },
     "metadata": {
      "needs_background": "light"
     },
     "output_type": "display_data"
    }
   ],
   "source": [
    "import missingno as mn\n",
    "mn.bar(df)"
   ]
  },
  {
   "cell_type": "code",
   "execution_count": 7,
   "metadata": {},
   "outputs": [
    {
     "data": {
      "text/plain": [
       "Year                 0\n",
       "ICD10 Code           0\n",
       "ICD10 Diagnosis      0\n",
       "Diagnosis Type       0\n",
       "Metric               0\n",
       "Sex                693\n",
       "Value                1\n",
       "dtype: int64"
      ]
     },
     "execution_count": 7,
     "metadata": {},
     "output_type": "execute_result"
    }
   ],
   "source": [
    "df.isnull().sum()"
   ]
  },
  {
   "cell_type": "markdown",
   "metadata": {},
   "source": [
    "#### Yes, so there is 693 missing values on field 'Sex' and 1 missing value on field 'Value'. We also found earlier that we had '.' value on 'Value' column which might be affecting the number. Therefore let's count the number of '.'"
   ]
  },
  {
   "cell_type": "code",
   "execution_count": 8,
   "metadata": {},
   "outputs": [
    {
     "data": {
      "text/plain": [
       "Value\n",
       ".      40\n",
       "600    19\n",
       "dtype: int64"
      ]
     },
     "execution_count": 8,
     "metadata": {},
     "output_type": "execute_result"
    }
   ],
   "source": [
    "df.value_counts('Value').head(2)"
   ]
  },
  {
   "cell_type": "markdown",
   "metadata": {},
   "source": [
    "#### Ya it seems there are '.' value under 'Value'. Let's just replace '.' with 0 for now"
   ]
  },
  {
   "cell_type": "code",
   "execution_count": 9,
   "metadata": {},
   "outputs": [],
   "source": [
    "df[\"Value\"].replace({\".\": 0,}, inplace=True)"
   ]
  },
  {
   "cell_type": "markdown",
   "metadata": {},
   "source": [
    "#### making sure we updates the values column"
   ]
  },
  {
   "cell_type": "code",
   "execution_count": 10,
   "metadata": {},
   "outputs": [
    {
     "data": {
      "text/plain": [
       "Value\n",
       "0      40\n",
       "600    19\n",
       "dtype: int64"
      ]
     },
     "execution_count": 10,
     "metadata": {},
     "output_type": "execute_result"
    }
   ],
   "source": [
    "df.value_counts('Value').head(2)"
   ]
  },
  {
   "cell_type": "markdown",
   "metadata": {},
   "source": [
    "#### filling na and also converting the datatype of the value to integer "
   ]
  },
  {
   "cell_type": "code",
   "execution_count": 11,
   "metadata": {},
   "outputs": [
    {
     "data": {
      "text/plain": [
       "0       11011882\n",
       "1        1713330\n",
       "2        1691035\n",
       "3         611002\n",
       "4         907157\n",
       "          ...   \n",
       "2074        1400\n",
       "2075         700\n",
       "2076        8900\n",
       "2077        4900\n",
       "2078         700\n",
       "Name: Value, Length: 2079, dtype: object"
      ]
     },
     "execution_count": 11,
     "metadata": {},
     "output_type": "execute_result"
    }
   ],
   "source": [
    "df['Value'].fillna(0)"
   ]
  },
  {
   "cell_type": "code",
   "execution_count": 12,
   "metadata": {},
   "outputs": [
    {
     "data": {
      "text/plain": [
       "0       11011882\n",
       "1        1713330\n",
       "2        1691035\n",
       "3         611002\n",
       "4         907157\n",
       "          ...   \n",
       "2074        1400\n",
       "2075         700\n",
       "2076        8900\n",
       "2077        4900\n",
       "2078         700\n",
       "Name: Value, Length: 2079, dtype: Int32"
      ]
     },
     "execution_count": 12,
     "metadata": {},
     "output_type": "execute_result"
    }
   ],
   "source": [
    "df['Value'].astype(np.float).astype(\"Int32\")"
   ]
  },
  {
   "cell_type": "markdown",
   "metadata": {},
   "source": [
    "#### Let's explore Diagnosis column which we are most interested in. First let's see for column diagnosis type by finding out all unique diagnosis type there are recorded on our dataset."
   ]
  },
  {
   "cell_type": "code",
   "execution_count": 13,
   "metadata": {},
   "outputs": [
    {
     "name": "stdout",
     "output_type": "stream",
     "text": [
      "['All admissions' 'All diseases which can be caused by smoking'\n",
      " 'All cancers' 'All respiratory diseases' 'All circulatory diseases'\n",
      " 'All diseases of the digestive system'\n",
      " 'Cancers which can be caused by smoking'\n",
      " 'Respiratory diseases which can be caused by smoking'\n",
      " 'Circulatory diseases which can be caused by smoking'\n",
      " 'Digestive diseases which can be caused caused by smoking'\n",
      " 'Other diseases which can be caused by smoking']\n"
     ]
    }
   ],
   "source": [
    "print(df['Diagnosis Type'].unique())"
   ]
  },
  {
   "cell_type": "markdown",
   "metadata": {},
   "source": [
    "#### Let's see the distribution (count) of each diagnosis type"
   ]
  },
  {
   "cell_type": "code",
   "execution_count": 14,
   "metadata": {},
   "outputs": [
    {
     "data": {
      "image/png": "[encoded data removed]",
      "text/plain": [
       "<Figure size 1440x1080 with 1 Axes>"
      ]
     },
     "metadata": {
      "needs_background": "light"
     },
     "output_type": "display_data"
    }
   ],
   "source": [
    "ax, fig = plt.subplots(figsize=[20,15])\n",
    "count = sns.countplot(x ='Diagnosis Type', data = df, palette = \"Set2\",\n",
    "                      order = df['Diagnosis Type'].value_counts().index)\n",
    "label = count.get_xticklabels()\n",
    "count.set_xticklabels(label,rotation=90)\n",
    "None # this is to make sure that label wont print"
   ]
  },
  {
   "cell_type": "markdown",
   "metadata": {},
   "source": [
    "#### Seems like most data are recorded for cancers whcih can be caused by smoking as well as circulatory diseases which can be caused by somoking. Least data are for all deseases which can be caused by smoking.\n",
    "\n",
    "#### Now let's do similar tasks for diagnosis. Let's get started by seeing the unique diagnosis"
   ]
  },
  {
   "cell_type": "code",
   "execution_count": 15,
   "metadata": {},
   "outputs": [
    {
     "data": {
      "text/plain": [
       "array(['All admissions', 'All diseases which can be caused by smoking',\n",
       "       'All cancers', 'All respiratory diseases',\n",
       "       'All circulatory diseases', 'All diseases of the digestive system',\n",
       "       'Trachea, Lung, Bronchus', 'Upper Respiratory Sites', 'Oesophagus',\n",
       "       'Larynx', 'Cervical', 'Bladder', 'Kidney and Renal Pelvis',\n",
       "       'Stomach', 'Pancreas', 'Unspecified Site', 'Myeloid Leukaemia',\n",
       "       'Chronic Obstructive Lung Disease', 'Chronic Airway Obstruction',\n",
       "       'Pneumonia, Influenza', 'Other Heart Disease',\n",
       "       'Ischaemic Heart Disease', 'Other arterial disease',\n",
       "       'Cerebrovascular Disease', 'Aortic Aneurysm', 'Atherosclerosis',\n",
       "       'Stomach / Duodenal Ulcer', 'Crohns Disease',\n",
       "       'Periodontal Disease / Periodonitis', 'Age Related Cataract 45+',\n",
       "       'Hip Fracture 55+', 'Spontaneous Abortion'], dtype=object)"
      ]
     },
     "execution_count": 15,
     "metadata": {},
     "output_type": "execute_result"
    }
   ],
   "source": [
    "df['ICD10 Diagnosis'].unique()"
   ]
  },
  {
   "cell_type": "code",
   "execution_count": 16,
   "metadata": {},
   "outputs": [
    {
     "data": {
      "image/png": "[encoded data removed]",
      "text/plain": [
       "<Figure size 1440x1080 with 1 Axes>"
      ]
     },
     "metadata": {
      "needs_background": "light"
     },
     "output_type": "display_data"
    }
   ],
   "source": [
    "ax, fig = plt.subplots(figsize=[20,15])\n",
    "count = sns.countplot(x ='ICD10 Diagnosis', data = df, palette = \"Set2\",\n",
    "                      order = df['ICD10 Diagnosis'].value_counts().index)\n",
    "label = count.get_xticklabels()\n",
    "count.set_xticklabels(label,rotation=90)\n",
    "None # this is to make sure that label wont print"
   ]
  },
  {
   "cell_type": "markdown",
   "metadata": {},
   "source": [
    "#### For diagnosis most of the data are equally distributed besides for the 'All diseases which can be caused by smoking'.\n",
    "\n",
    "#### let's also see if data is distributed evenly on year."
   ]
  },
  {
   "cell_type": "code",
   "execution_count": 17,
   "metadata": {},
   "outputs": [
    {
     "data": {
      "text/html": [
       "<div>\n",
       "<style scoped>\n",
       "    .dataframe tbody tr th:only-of-type {\n",
       "        vertical-align: middle;\n",
       "    }\n",
       "\n",
       "    .dataframe tbody tr th {\n",
       "        vertical-align: top;\n",
       "    }\n",
       "\n",
       "    .dataframe thead th {\n",
       "        text-align: right;\n",
       "    }\n",
       "</style>\n",
       "<table border=\"1\" class=\"dataframe\">\n",
       "  <thead>\n",
       "    <tr style=\"text-align: right;\">\n",
       "      <th></th>\n",
       "      <th>ICD10 Diagnosis</th>\n",
       "    </tr>\n",
       "    <tr>\n",
       "      <th>Year</th>\n",
       "      <th></th>\n",
       "    </tr>\n",
       "  </thead>\n",
       "  <tbody>\n",
       "    <tr>\n",
       "      <th>2004/05</th>\n",
       "      <td>189</td>\n",
       "    </tr>\n",
       "    <tr>\n",
       "      <th>2005/06</th>\n",
       "      <td>189</td>\n",
       "    </tr>\n",
       "    <tr>\n",
       "      <th>2006/07</th>\n",
       "      <td>189</td>\n",
       "    </tr>\n",
       "    <tr>\n",
       "      <th>2007/08</th>\n",
       "      <td>189</td>\n",
       "    </tr>\n",
       "    <tr>\n",
       "      <th>2008/09</th>\n",
       "      <td>189</td>\n",
       "    </tr>\n",
       "    <tr>\n",
       "      <th>2009/10</th>\n",
       "      <td>189</td>\n",
       "    </tr>\n",
       "    <tr>\n",
       "      <th>2010/11</th>\n",
       "      <td>189</td>\n",
       "    </tr>\n",
       "    <tr>\n",
       "      <th>2011/12</th>\n",
       "      <td>189</td>\n",
       "    </tr>\n",
       "    <tr>\n",
       "      <th>2012/13</th>\n",
       "      <td>189</td>\n",
       "    </tr>\n",
       "    <tr>\n",
       "      <th>2013/14</th>\n",
       "      <td>189</td>\n",
       "    </tr>\n",
       "    <tr>\n",
       "      <th>2014/15</th>\n",
       "      <td>189</td>\n",
       "    </tr>\n",
       "  </tbody>\n",
       "</table>\n",
       "</div>"
      ],
      "text/plain": [
       "         ICD10 Diagnosis\n",
       "Year                    \n",
       "2004/05              189\n",
       "2005/06              189\n",
       "2006/07              189\n",
       "2007/08              189\n",
       "2008/09              189\n",
       "2009/10              189\n",
       "2010/11              189\n",
       "2011/12              189\n",
       "2012/13              189\n",
       "2013/14              189\n",
       "2014/15              189"
      ]
     },
     "execution_count": 17,
     "metadata": {},
     "output_type": "execute_result"
    }
   ],
   "source": [
    "df[['Year', 'ICD10 Diagnosis']].groupby(['Year']).count()"
   ]
  },
  {
   "cell_type": "markdown",
   "metadata": {},
   "source": [
    "#### and it seems the diagnosis data are evenly distributed\n",
    "\n",
    "#### Let's also visualize the 'Sex' column. Let's first fill the missing value with Missing for now"
   ]
  },
  {
   "cell_type": "code",
   "execution_count": 18,
   "metadata": {},
   "outputs": [],
   "source": [
    "df['Sex_filled_na'] = df['Sex'].fillna('Missing')"
   ]
  },
  {
   "cell_type": "code",
   "execution_count": 19,
   "metadata": {},
   "outputs": [
    {
     "data": {
      "image/png": "[encoded data removed]",
      "text/plain": [
       "<Figure size 1440x1080 with 1 Axes>"
      ]
     },
     "metadata": {
      "needs_background": "light"
     },
     "output_type": "display_data"
    }
   ],
   "source": [
    "ax, fig = plt.subplots(figsize=[20,15])\n",
    "count = sns.countplot(x ='Sex_filled_na', data = df, palette = \"Set2\",\n",
    "                      order = df['Sex_filled_na'].value_counts().index)\n",
    "label = count.get_xticklabels()\n",
    "count.set_xticklabels(label,rotation=90)\n",
    "None # this is to make sure that label wont print"
   ]
  },
  {
   "cell_type": "code",
   "execution_count": 20,
   "metadata": {},
   "outputs": [
    {
     "data": {
      "text/plain": [
       "<AxesSubplot:ylabel='Sex_filled_na'>"
      ]
     },
     "execution_count": 20,
     "metadata": {},
     "output_type": "execute_result"
    },
    {
     "data": {
      "image/png": "[encoded data removed]",
      "text/plain": [
       "<Figure size 720x720 with 1 Axes>"
      ]
     },
     "metadata": {},
     "output_type": "display_data"
    }
   ],
   "source": [
    "ax, fig = plt.subplots(figsize=[10,10])\n",
    "df['Sex_filled_na'].value_counts().plot(kind='pie', autopct='%1.1f%%')"
   ]
  },
  {
   "cell_type": "markdown",
   "metadata": {},
   "source": [
    "#### The count seems even fo this column too."
   ]
  },
  {
   "cell_type": "code",
   "execution_count": null,
   "metadata": {},
   "outputs": [],
   "source": []
  },
  {
   "cell_type": "markdown",
   "metadata": {},
   "source": [
    "# Hypothesis Testing:"
   ]
  },
  {
   "cell_type": "markdown",
   "metadata": {},
   "source": [
    "We use 'ttest_ind' from scipy.stats to test our hypothesis.The t-test quantifies the difference between the arithmetic means of the two samples. The p-value quantifies the probability of observing as or more extreme values assuming the null hypothesis, that the samples are drawn from populations with the same population means, is true. A p-value larger than a chosen threshold (e.g. 5% or 1%) indicates that our observation is not so unlikely to have occurred by chance. Therefore, we do not reject the null hypothesis of equal population means. If the p-value is smaller than our threshold, then we have evidence against the null hypothesis of equal population means.\n",
    "\n",
    "Here we use 5% or 0.05 as threshold. If p value is larger we will not reject our null hypothesis."
   ]
  },
  {
   "cell_type": "markdown",
   "metadata": {},
   "source": [
    "## Hypothesis 1."
   ]
  },
  {
   "cell_type": "markdown",
   "metadata": {},
   "source": [
    "Null hypothesis:  Admissions attributed to tobacco use are no different between males and females"
   ]
  },
  {
   "cell_type": "markdown",
   "metadata": {},
   "source": [
    "Let's start testing our hypothesis by separating values of male and females and take the ttest. If p value of ttest is greater than 0.05 we cannot reject the null hypothesis, else we reject the hypothesis."
   ]
  },
  {
   "cell_type": "code",
   "execution_count": 21,
   "metadata": {},
   "outputs": [
    {
     "data": {
      "text/html": [
       "<div>\n",
       "<style scoped>\n",
       "    .dataframe tbody tr th:only-of-type {\n",
       "        vertical-align: middle;\n",
       "    }\n",
       "\n",
       "    .dataframe tbody tr th {\n",
       "        vertical-align: top;\n",
       "    }\n",
       "\n",
       "    .dataframe thead th {\n",
       "        text-align: right;\n",
       "    }\n",
       "</style>\n",
       "<table border=\"1\" class=\"dataframe\">\n",
       "  <thead>\n",
       "    <tr style=\"text-align: right;\">\n",
       "      <th></th>\n",
       "      <th>Year</th>\n",
       "      <th>ICD10 Code</th>\n",
       "      <th>ICD10 Diagnosis</th>\n",
       "      <th>Diagnosis Type</th>\n",
       "      <th>Metric</th>\n",
       "      <th>Sex</th>\n",
       "      <th>Value</th>\n",
       "      <th>Sex_filled_na</th>\n",
       "    </tr>\n",
       "  </thead>\n",
       "  <tbody>\n",
       "    <tr>\n",
       "      <th>63</th>\n",
       "      <td>2014/15</td>\n",
       "      <td>All codes</td>\n",
       "      <td>All admissions</td>\n",
       "      <td>All admissions</td>\n",
       "      <td>Number of admissions</td>\n",
       "      <td>Male</td>\n",
       "      <td>5141482</td>\n",
       "      <td>Male</td>\n",
       "    </tr>\n",
       "    <tr>\n",
       "      <th>64</th>\n",
       "      <td>2014/15</td>\n",
       "      <td>C33-C34 &amp; C00-C14 &amp; C15 &amp; C32 &amp; C53 &amp; C67 &amp; C6...</td>\n",
       "      <td>All diseases which can be caused by smoking</td>\n",
       "      <td>All diseases which can be caused by smoking</td>\n",
       "      <td>Number of admissions</td>\n",
       "      <td>Male</td>\n",
       "      <td>931001</td>\n",
       "      <td>Male</td>\n",
       "    </tr>\n",
       "    <tr>\n",
       "      <th>65</th>\n",
       "      <td>2014/15</td>\n",
       "      <td>C00-D48</td>\n",
       "      <td>All cancers</td>\n",
       "      <td>All cancers</td>\n",
       "      <td>Number of admissions</td>\n",
       "      <td>Male</td>\n",
       "      <td>828031</td>\n",
       "      <td>Male</td>\n",
       "    </tr>\n",
       "    <tr>\n",
       "      <th>66</th>\n",
       "      <td>2014/15</td>\n",
       "      <td>J00-J99</td>\n",
       "      <td>All respiratory diseases</td>\n",
       "      <td>All respiratory diseases</td>\n",
       "      <td>Number of admissions</td>\n",
       "      <td>Male</td>\n",
       "      <td>300450</td>\n",
       "      <td>Male</td>\n",
       "    </tr>\n",
       "    <tr>\n",
       "      <th>67</th>\n",
       "      <td>2014/15</td>\n",
       "      <td>I00-I99</td>\n",
       "      <td>All circulatory diseases</td>\n",
       "      <td>All circulatory diseases</td>\n",
       "      <td>Number of admissions</td>\n",
       "      <td>Male</td>\n",
       "      <td>522587</td>\n",
       "      <td>Male</td>\n",
       "    </tr>\n",
       "  </tbody>\n",
       "</table>\n",
       "</div>"
      ],
      "text/plain": [
       "       Year                                         ICD10 Code  \\\n",
       "63  2014/15                                          All codes   \n",
       "64  2014/15  C33-C34 & C00-C14 & C15 & C32 & C53 & C67 & C6...   \n",
       "65  2014/15                                            C00-D48   \n",
       "66  2014/15                                            J00-J99   \n",
       "67  2014/15                                            I00-I99   \n",
       "\n",
       "                                ICD10 Diagnosis  \\\n",
       "63                               All admissions   \n",
       "64  All diseases which can be caused by smoking   \n",
       "65                                  All cancers   \n",
       "66                     All respiratory diseases   \n",
       "67                     All circulatory diseases   \n",
       "\n",
       "                                 Diagnosis Type                Metric   Sex  \\\n",
       "63                               All admissions  Number of admissions  Male   \n",
       "64  All diseases which can be caused by smoking  Number of admissions  Male   \n",
       "65                                  All cancers  Number of admissions  Male   \n",
       "66                     All respiratory diseases  Number of admissions  Male   \n",
       "67                     All circulatory diseases  Number of admissions  Male   \n",
       "\n",
       "      Value Sex_filled_na  \n",
       "63  5141482          Male  \n",
       "64   931001          Male  \n",
       "65   828031          Male  \n",
       "66   300450          Male  \n",
       "67   522587          Male  "
      ]
     },
     "execution_count": 21,
     "metadata": {},
     "output_type": "execute_result"
    }
   ],
   "source": [
    "male = df[df['Sex'] == 'Male']\n",
    "male.head()"
   ]
  },
  {
   "cell_type": "code",
   "execution_count": 22,
   "metadata": {},
   "outputs": [
    {
     "data": {
      "text/html": [
       "<div>\n",
       "<style scoped>\n",
       "    .dataframe tbody tr th:only-of-type {\n",
       "        vertical-align: middle;\n",
       "    }\n",
       "\n",
       "    .dataframe tbody tr th {\n",
       "        vertical-align: top;\n",
       "    }\n",
       "\n",
       "    .dataframe thead th {\n",
       "        text-align: right;\n",
       "    }\n",
       "</style>\n",
       "<table border=\"1\" class=\"dataframe\">\n",
       "  <thead>\n",
       "    <tr style=\"text-align: right;\">\n",
       "      <th></th>\n",
       "      <th>Year</th>\n",
       "      <th>ICD10 Code</th>\n",
       "      <th>ICD10 Diagnosis</th>\n",
       "      <th>Diagnosis Type</th>\n",
       "      <th>Metric</th>\n",
       "      <th>Sex</th>\n",
       "      <th>Value</th>\n",
       "      <th>Sex_filled_na</th>\n",
       "    </tr>\n",
       "  </thead>\n",
       "  <tbody>\n",
       "    <tr>\n",
       "      <th>126</th>\n",
       "      <td>2014/15</td>\n",
       "      <td>All codes</td>\n",
       "      <td>All admissions</td>\n",
       "      <td>All admissions</td>\n",
       "      <td>Number of admissions</td>\n",
       "      <td>Female</td>\n",
       "      <td>5870400</td>\n",
       "      <td>Female</td>\n",
       "    </tr>\n",
       "    <tr>\n",
       "      <th>127</th>\n",
       "      <td>2014/15</td>\n",
       "      <td>C33-C34 &amp; C00-C14 &amp; C15 &amp; C32 &amp; C53 &amp; C67 &amp; C6...</td>\n",
       "      <td>All diseases which can be caused by smoking</td>\n",
       "      <td>All diseases which can be caused by smoking</td>\n",
       "      <td>Number of admissions</td>\n",
       "      <td>Female</td>\n",
       "      <td>782329</td>\n",
       "      <td>Female</td>\n",
       "    </tr>\n",
       "    <tr>\n",
       "      <th>128</th>\n",
       "      <td>2014/15</td>\n",
       "      <td>C00-D48</td>\n",
       "      <td>All cancers</td>\n",
       "      <td>All cancers</td>\n",
       "      <td>Number of admissions</td>\n",
       "      <td>Female</td>\n",
       "      <td>863004</td>\n",
       "      <td>Female</td>\n",
       "    </tr>\n",
       "    <tr>\n",
       "      <th>129</th>\n",
       "      <td>2014/15</td>\n",
       "      <td>J00-J99</td>\n",
       "      <td>All respiratory diseases</td>\n",
       "      <td>All respiratory diseases</td>\n",
       "      <td>Number of admissions</td>\n",
       "      <td>Female</td>\n",
       "      <td>310552</td>\n",
       "      <td>Female</td>\n",
       "    </tr>\n",
       "    <tr>\n",
       "      <th>130</th>\n",
       "      <td>2014/15</td>\n",
       "      <td>I00-I99</td>\n",
       "      <td>All circulatory diseases</td>\n",
       "      <td>All circulatory diseases</td>\n",
       "      <td>Number of admissions</td>\n",
       "      <td>Female</td>\n",
       "      <td>384570</td>\n",
       "      <td>Female</td>\n",
       "    </tr>\n",
       "  </tbody>\n",
       "</table>\n",
       "</div>"
      ],
      "text/plain": [
       "        Year                                         ICD10 Code  \\\n",
       "126  2014/15                                          All codes   \n",
       "127  2014/15  C33-C34 & C00-C14 & C15 & C32 & C53 & C67 & C6...   \n",
       "128  2014/15                                            C00-D48   \n",
       "129  2014/15                                            J00-J99   \n",
       "130  2014/15                                            I00-I99   \n",
       "\n",
       "                                 ICD10 Diagnosis  \\\n",
       "126                               All admissions   \n",
       "127  All diseases which can be caused by smoking   \n",
       "128                                  All cancers   \n",
       "129                     All respiratory diseases   \n",
       "130                     All circulatory diseases   \n",
       "\n",
       "                                  Diagnosis Type                Metric  \\\n",
       "126                               All admissions  Number of admissions   \n",
       "127  All diseases which can be caused by smoking  Number of admissions   \n",
       "128                                  All cancers  Number of admissions   \n",
       "129                     All respiratory diseases  Number of admissions   \n",
       "130                     All circulatory diseases  Number of admissions   \n",
       "\n",
       "        Sex    Value Sex_filled_na  \n",
       "126  Female  5870400        Female  \n",
       "127  Female   782329        Female  \n",
       "128  Female   863004        Female  \n",
       "129  Female   310552        Female  \n",
       "130  Female   384570        Female  "
      ]
     },
     "execution_count": 22,
     "metadata": {},
     "output_type": "execute_result"
    }
   ],
   "source": [
    "female = df[df['Sex'] == 'Female']\n",
    "female.head()"
   ]
  },
  {
   "cell_type": "markdown",
   "metadata": {},
   "source": [
    "Let's calculate all the value where smoking or tobacco is attributed."
   ]
  },
  {
   "cell_type": "code",
   "execution_count": 23,
   "metadata": {},
   "outputs": [],
   "source": [
    "relating_attribute = ['All diseases which can be caused by smoking','Cancers which can be caused by smoking','Circulatory diseases which can be caused by smoking']"
   ]
  },
  {
   "cell_type": "code",
   "execution_count": 24,
   "metadata": {},
   "outputs": [],
   "source": [
    "val_male = male[male['Diagnosis Type'].isin(relating_attribute)]['Value'].astype(int) "
   ]
  },
  {
   "cell_type": "code",
   "execution_count": 25,
   "metadata": {},
   "outputs": [],
   "source": [
    "val_female = female[female['Diagnosis Type'].isin(relating_attribute)]['Value'].astype(int)"
   ]
  },
  {
   "cell_type": "markdown",
   "metadata": {},
   "source": [
    "#### Now let's calculate ttest and check if p value is greater than 0.05 or not"
   ]
  },
  {
   "cell_type": "code",
   "execution_count": 26,
   "metadata": {},
   "outputs": [],
   "source": [
    "from scipy.stats import ttest_ind"
   ]
  },
  {
   "cell_type": "code",
   "execution_count": 27,
   "metadata": {},
   "outputs": [],
   "source": [
    "stats,p = ttest_ind(val_male,val_female)"
   ]
  },
  {
   "cell_type": "code",
   "execution_count": 28,
   "metadata": {},
   "outputs": [
    {
     "name": "stdout",
     "output_type": "stream",
     "text": [
      "Stats : 1.505, P: 0.133\n"
     ]
    }
   ],
   "source": [
    "print('Stats : %.3f, P: %.3f' % (stats,p))"
   ]
  },
  {
   "cell_type": "code",
   "execution_count": 29,
   "metadata": {},
   "outputs": [
    {
     "name": "stdout",
     "output_type": "stream",
     "text": [
      "Cannot reject null Hypothesis\n"
     ]
    }
   ],
   "source": [
    "if p > 0.05:\n",
    "    print('Cannot reject null Hypothesis')\n",
    "else:\n",
    "    print(\"Reject Hypothesis\")"
   ]
  },
  {
   "cell_type": "markdown",
   "metadata": {},
   "source": [
    "## This means we cannot reject our null hypothesis or admissions attributed to tobacco use are no different between males and females"
   ]
  },
  {
   "cell_type": "code",
   "execution_count": null,
   "metadata": {},
   "outputs": [],
   "source": []
  },
  {
   "cell_type": "markdown",
   "metadata": {},
   "source": [
    "## Hypothesis 2."
   ]
  },
  {
   "cell_type": "markdown",
   "metadata": {},
   "source": [
    "Null hypothesis:  Admissions attributed to tobacco use are no different between respiratory and digestive diseases\n",
    "\n",
    "\n",
    "for this too, we will seperate the data for respiratory and digestive diseases and take the ttest. If p value of ttest is greater than 0.05 we cannot reject the null hypothesis, else we reject the hypothesis. "
   ]
  },
  {
   "cell_type": "code",
   "execution_count": 30,
   "metadata": {},
   "outputs": [],
   "source": [
    "respiratory = df[df['Diagnosis Type'].isin(['Respiratory diseases which can be caused by smoking'])]['Value'].astype(int) "
   ]
  },
  {
   "cell_type": "code",
   "execution_count": 31,
   "metadata": {},
   "outputs": [],
   "source": [
    "circulatory = df[df['Diagnosis Type'].isin(['Circulatory diseases which can be caused by smoking'])]['Value'].astype(int) \n",
    " "
   ]
  },
  {
   "cell_type": "markdown",
   "metadata": {},
   "source": [
    "#### Now let's calculate ttest and check if p value is greater than 0.05 or not"
   ]
  },
  {
   "cell_type": "code",
   "execution_count": 32,
   "metadata": {},
   "outputs": [],
   "source": [
    "from scipy.stats import ttest_ind\n",
    "\n",
    "stats,p = ttest_ind(respiratory,circulatory)"
   ]
  },
  {
   "cell_type": "code",
   "execution_count": 33,
   "metadata": {},
   "outputs": [
    {
     "name": "stdout",
     "output_type": "stream",
     "text": [
      "Stats : -1.118, P: 0.264\n"
     ]
    }
   ],
   "source": [
    "print('Stats : %.3f, P: %.3f' % (stats,p))"
   ]
  },
  {
   "cell_type": "code",
   "execution_count": 34,
   "metadata": {},
   "outputs": [
    {
     "name": "stdout",
     "output_type": "stream",
     "text": [
      "Cannot reject null Hypothesis\n"
     ]
    }
   ],
   "source": [
    "if p > 0.05:\n",
    "    print('Cannot reject null Hypothesis')\n",
    "else:\n",
    "    print(\"Reject Hypothesis\")"
   ]
  },
  {
   "cell_type": "markdown",
   "metadata": {},
   "source": [
    "## This means we cannot reject our null hypothesis or admissions attributed to tobacco use are no different between respiratory and digestive diseases"
   ]
  },
  {
   "cell_type": "markdown",
   "metadata": {},
   "source": [
    "# Conclusion:"
   ]
  },
  {
   "cell_type": "markdown",
   "metadata": {},
   "source": [
    "From the tests above, we can conclude 2 different hypothesis,\n",
    "\n",
    "For hypothesis 1, we cannot reject our null hypothesis which means admissions attributed to tobacco use are no different between males and females\n",
    "\n",
    "And for hypothesis 2,we cannot reject our null hypothesis or admissions attributed to tobacco use are no different between respiratory and digestive diseases"
   ]
  },
  {
   "cell_type": "code",
   "execution_count": null,
   "metadata": {},
   "outputs": [],
   "source": []
  },
  {
   "cell_type": "code",
   "execution_count": null,
   "metadata": {},
   "outputs": [],
   "source": []
  }
 ],
 "metadata": {
  "kernelspec": {
   "display_name": "Python 3",
   "language": "python",
   "name": "python3"
  },
  "language_info": {
   "codemirror_mode": {
    "name": "ipython",
    "version": 3
   },
   "file_extension": ".py",
   "mimetype": "text/x-python",
   "name": "python",
   "nbconvert_exporter": "python",
   "pygments_lexer": "ipython3",
   "version": "3.8.10"
  }
 },
 "nbformat": 4,
 "nbformat_minor": 4
}
